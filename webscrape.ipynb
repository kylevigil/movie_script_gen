{
 "cells": [
  {
   "cell_type": "code",
   "execution_count": 24,
   "metadata": {},
   "outputs": [],
   "source": [
    "from bs4 import BeautifulSoup\n",
    "import requests \n",
    "import time\n",
    "import pandas as pd"
   ]
  },
  {
   "cell_type": "code",
   "execution_count": 8,
   "metadata": {},
   "outputs": [],
   "source": [
    "URL = \"https://www.imsdb.com/all%20scripts/\"\n",
    "r = requests.get(URL) \n",
    "soup = BeautifulSoup(r.content, 'html5lib')\n",
    "movies = soup.find_all(\"p\")\n",
    "movie_pages = {m.find(\"a\").text: m.find(\"a\").get(\"href\") for m in movies}"
   ]
  },
  {
   "cell_type": "code",
   "execution_count": 9,
   "metadata": {},
   "outputs": [
    {
     "name": "stdout",
     "output_type": "stream",
     "text": [
      "https://www.imsdb.com/Movie%20Scripts/Ace%20Ventura:%20Pet%20Detective%20Script.html\n"
     ]
    }
   ],
   "source": [
    "URL = \"https://www.imsdb.com/Movie%20Scripts/Ace%20Ventura:%20Pet%20Detective%20Script.html\"\n",
    "print(URL)\n",
    "r = requests.get(URL) \n",
    "soup = BeautifulSoup(r.content, 'html5lib')"
   ]
  },
  {
   "cell_type": "code",
   "execution_count": 21,
   "metadata": {},
   "outputs": [
    {
     "name": "stdout",
     "output_type": "stream",
     "text": [
      "A.I. <p><b>Giljonnys Dias da Silva</b> <a href=\"mailto:giljonnysdias@outlook.com\" title=\"E-mail User\"><img border=\"0\" src=\"/images/emailuser.gif\"/></a>   <img src=\"/images/rating/10-stars.gif\"/> (10 out of 10 )<br/>Really a good movie which portraits technological reality. I have already watched this movie many times.</p>\n",
      "\n",
      "Batman and Robin <p><b>bruce wayne</b> <a href=\"mailto:blackfire1118@live.com\" title=\"E-mail User\"><img border=\"0\" src=\"/images/emailuser.gif\"/></a>   <img src=\"/images/rating/1-stars.gif\"/> (1 out of 10 )<br/>This movie is an absolute disaster. I am amazed how anybody in this movie still has a career. George Clooney brought shame to Michael Keaton, Christian Bale and even Val Kilmer. Arnold Schwarzenegger was the worst casting choice of the whole movie. If there was a zero choice on here I definitely would have picked it. This was overall the biggest crime in cinema history.</p>\n",
      "\n",
      "Batman Begins <p><b>Seabass</b> <img src=\"/images/rating/9-stars.gif\"/> (9 out of 10 )<br/>This has got to be the best batman film ever made.</p>\n",
      "\n",
      "Batman Forever <p><b>nicholas</b> <a href=\"mailto:suppanicky\" title=\"E-mail User\"><img border=\"0\" src=\"/images/emailuser.gif\"/></a>   <img src=\"/images/rating/8-stars.gif\"/> (8 out of 10 )<br/>Batman forever was a good movie it was just weird that jim carrey was a bad guy.</p>\n",
      "\n",
      "Batman Returns <p><b>Alex</b> <a href=\"mailto:aaranovak63@att.net\" title=\"E-mail User\"><img border=\"0\" src=\"/images/emailuser.gif\"/></a>   <img src=\"/images/rating/8-stars.gif\"/> (8 out of 10 )<br/>Let be honest when we rank Batman films: 1: The Dark Knight. 2: The Dark Knight Rises. 3: Batman Begins. 4: Batman. 5: Batman Returns. 6: Batman Forever. 7: Batman And Robin. And with the actors who have portrayed Batman: 1: Christian Bale. 2: Michaels Keaton. 3: Ben Affleck, He is already better than the Batman by Kilmer and Clooney. 4: Val Kilmer. 5: George Clooney. Best Villain: Heath Ledger As The Joker. Nolan was the best director by far. Be real.</p>\n",
      "\n",
      "Casablanca <p><b>Zach</b> <img src=\"/images/rating/10-stars.gif\"/> (10 out of 10 )<br/>A paragraph of words cannot express or explain why this is THE greatest film ever made. The masterful use of dialogue as both witty banter and characterization by Julius and Phillip Epstein as well as the contributions by Howard Koch (Who was later blacklisted during the Red Scare) make the first reason for this rating. Second, the acting by everyone from Bogart and Bergman down to Yvonne, Captain Galilee, and all the other memorable side-characters that make the setting come alive and keeps the audience's attention the whole way through. The use of many Actors who fled Nazi Occupied Europe to play refugees and the raw emotions that come to the forefront during the La Marseillaise still brings out the reality present at the time the film was released straight to the viewer even today. Lastly, the musical score and the use of relatively minor hit songs such as \"It Had To Be You\", \"Shine\", \"Perfidia\", and \"As Time Goes By\", work to make emotions run high and utilize the talent of 1920's Bandleader, Dooley Wilson, as Sam, ultimately making the acting more heartfelt and the story more like a romantic ballad. This is why Casablanca can fit into so many great genres from Romance, Musical, and Comedy, to Drama, War, and Film Noir.</p>\n",
      "\n",
      "Contact <p><b>Lance Marchetti</b> <a href=\"mailto:stand4truth@minister.com\" title=\"E-mail User\"><img border=\"0\" src=\"/images/emailuser.gif\"/></a>   <img src=\"/images/rating/6-stars.gif\"/> (6 out of 10 )<br/>Brilliant movie. Just a pity it was charged with a bias that screams faith is not logically soluble with 'science'. This misleads the audience to think that the presuppositions it portrays regarding our existence in the universe are ones we should all be believing. And that there is no definite answers to life, and the afterlife. And certainly not in that untrustworthy piece of literature called the Bible. Thanks Carl Sagan. For yet again giving us nothing tangible to take with us when we peg off.</p>\n",
      "\n",
      "Dark Knight, The <p><b>Cameron</b> <a href=\"mailto:Darthsitkur@aol.com\" title=\"E-mail User\"><img border=\"0\" src=\"/images/emailuser.gif\"/></a>   <img src=\"/images/rating/10-stars.gif\"/> (10 out of 10 )<br/>More of a mafia film than a vigilante one, but it's still full of badass fight scenes and has a great bank heist to open it up, and Heath ledger's performance is just amazing, he's the PERFECT joker and no one can top him.</p>\n",
      "\n",
      "Donnie Darko <p><b>Sonni</b> <a href=\"mailto:sonyasalih_son@hotmail.co.uk\" title=\"E-mail User\"><img border=\"0\" src=\"/images/emailuser.gif\"/></a>   <img src=\"/images/rating/10-stars.gif\"/> (10 out of 10 )<br/>I've always loved this movie! I find it pretty funny, not sure if most people will agree. Jake Gyllenhaal is a great actor.</p>\n",
      "\n",
      "Executive Decision <p><b>Tyrone</b> <a href=\"mailto:tspencer2@hotmail.com\" title=\"E-mail User\"><img border=\"0\" src=\"/images/emailuser.gif\"/></a>   <img src=\"/images/rating/10-stars.gif\"/> (10 out of 10 )<br/>A great action suspense thriller from the Thomas Brothers; creators of \"Predator\". Best shocker: Steven Seagal gets killed 45 minutes into the film, because after all this is a Kurt Russell movie. Trivia brief: Adult Film actress Magdalene St. Michaels is in the movie briefly as the hotel hostess (she's wearing blonde-gray hair) who points out an overcoat wearing terrorist entering the hotel restaurant to the maitre'd.</p>\n",
      "\n",
      "Eyes Wide Shut <p><b>Keith</b> <img src=\"/images/rating/10-stars.gif\"/> (10 out of 10 )<br/>Thus movie was very compelling and drew me in. I've loved Nicole since Days Of Thunder and if you think she's a terrible actress you need to see her in Rabbit Hole. As for Tom, he's the most underrated and disrespected actor out there. He should have a few Oscars on his mantle by now but no. Yet the real terrible actors like Nicolas cage do. I don't know if anyone noticed but tom and Nicole weren't the only ones who were flat. The entire cast was. Clearly the director was going for something. Remember its his film so to second guess a genius like him is disrespectful to his legacy. When I watched it I didn't see tom &amp; Nicole, I saw Bill &amp; Alice. Perhaps prejudices are inhibiting the ability to truly see the film in all its greatness. It certainly wouldn't have been as compelling had it been Woody &amp; Mia or Jennifer &amp; Johnny. Johnny would have played him as a goofy eccentric most likely and Jennifer would have played her as a snarky bitchy melancholy type. It was perfect as is.</p>\n",
      "\n",
      "Full Metal Jacket <p><b>PVT Peter Puffer</b> <img src=\"/images/rating/10-stars.gif\"/> (10 out of 10 )<br/>\"It's sort of a comment about the duality of man sir! Git Some!\".</p>\n",
      "\n",
      "Fury <p><b>Godagesil</b> <img src=\"/images/rating/4-stars.gif\"/> (4 out of 10 )<br/>The movie propagated a much of worn out myths: Allied tanks were not as bad as portrayed. Germans did not adopt banzai attack tactics like the writer would have you think. I doubt at that stage of the war if even the SS were singing marching into battle. German troops manning those hv75mm anti-tank guns would have made mincemeat out of those Shermans attacking over an open field, but yet the Germans cannot seem to hit a tank at 400 yards taking no evasive action and driving straight at them. In real life they would have fired smoke to let the troops extricate themselves, taken the treeline under fire and sent a flanking group out. Panzerfausts were used at 60 yards since the back blast would kill you at the distances shown in the movie. I know Hollywood has to take license with somethings like compressed distances and such, but retarded and contrived conflict between a bunch of close knit men that late in the war is more a disrespect than entertaining. Yeah, I understand all the symbolism: fallen and redeemed crap, but seriously? Movies have always been formulaic, but please.</p>\n",
      "\n",
      "Goodfellas <p><b>buiu</b> <a href=\"mailto:l.serra@hotmail.com\" title=\"E-mail User\"><img border=\"0\" src=\"/images/emailuser.gif\"/></a>   <img src=\"/images/rating/10-stars.gif\"/> (10 out of 10 )<br/>The best Ray Liotta performance. Like most of these genre movies of Martin Scorcese he shows us the low hierarchy of the mob, New York, euro-American neighborhood and how the mobsters in that years was so normal like mammas and the pizzerias.</p>\n",
      "\n",
      "Harry Potter and the Chamber of Secrets <p><b>Daisy Boyd</b> <a href=\"mailto:daisy_boyd@icloud.com\" title=\"E-mail User\"><img border=\"0\" src=\"/images/emailuser.gif\"/></a>   <img src=\"/images/rating/10-stars.gif\"/> (10 out of 10 )<br/>The Harry Potter series is my life without it I would die. I have all the books and movies My favourite character has to be Hermione.( its leviosa not, leveosaa.) HA HA HA HA.</p>\n",
      "\n",
      "Harry Potter and the Deathly Hallows Part 1 <p><b>JIM</b> <a href=\"mailto:jack_mccaughrean@yahoo.com\" title=\"E-mail User\"><img border=\"0\" src=\"/images/emailuser.gif\"/></a>   <img src=\"/images/rating/8-stars.gif\"/> (8 out of 10 )<br/>Unfortunately, this wasn't a slam dunk film. I definitely liked part 2 better. My only problem with part 1 and 2 is that I don't think they covered much. They showed Hagrid like once. They barely showed Lupin and his wife before they killed them off. And I don't even think they even bothered to show Lupin's son. They were good, though. I just feel that it ended too soon. It's been over a decade and every other year there's been one coming out. Now there's not. I'm kind of sad.</p>\n",
      "\n",
      "Harry Potter and the Goblet of Fire <p><b>The big T</b> <a href=\"mailto:tom.jwood@tiscali.co.uk\" title=\"E-mail User\"><img border=\"0\" src=\"/images/emailuser.gif\"/></a>   <img src=\"/images/rating/10-stars.gif\"/> (10 out of 10 )<br/>Harry Potter is the best series of films and books I have ever come across and I am now reading the fifth book. I have ALL of the Harry Potter books and films so far.</p>\n",
      "\n",
      "Harry Potter and the Half-Blood Prince <p><b>martins </b> <a href=\"mailto:lyricalveno@gmail.com\" title=\"E-mail User\"><img border=\"0\" src=\"/images/emailuser.gif\"/></a>   <img src=\"/images/rating/9-stars.gif\"/> (9 out of 10 )<br/>It was amazing following Radcliffe from the very first installment of the franchise and seeing him mature all way. Great script too.</p>\n",
      "\n",
      "Harry Potter and the Prisoner of Azkaban <p><b>Voldy's Angel</b> <img src=\"/images/rating/2-stars.gif\"/> (2 out of 10 )<br/>This movie was absolutely horrible. Prisoner of Azkaban was my favorite book, and I think that Emma Watson had way too many lines in this movie. Ron barely talks. The humour and CGI was great, but I still think this is the worst movie made in the Harry Potter series.</p>\n",
      "\n",
      "Harry Potter and the Sorcerer's Stone <p><b>Lori</b> <a href=\"mailto:lorindadonzinga@live.fr\" title=\"E-mail User\"><img border=\"0\" src=\"/images/emailuser.gif\"/></a>   <img src=\"/images/rating/10-stars.gif\"/> (10 out of 10 )<br/>I really love all the movies the third being my favorite. I wish Alfonzo Curon would do the last two movies. I love the fact that they are making the seventh movie into two seperate movies so that they don't delete anything I just wish that they would have started that from the very beginning. But it is a wait and see thing. The script is very incorrect. I don't know who typed it up but aparently they don't really know the movie or the books. Though to comment on Chelsea Bebbington's comment of the first movie being the only one to follow the books I believe that the third was the best. The first two were really close though. I really liked Richard Harris as Dumbledore so much better that Sir Micheal Gambon. I think Micheal Gambon is too rough for the part.</p>\n",
      "\n",
      "Innerspace\n",
      "\n",
      "Lethal Weapon <p><b>FunnyStuff</b> <a href=\"mailto:soreal@notreally.org\" title=\"E-mail User\"><img border=\"0\" src=\"/images/emailuser.gif\"/></a>   <img src=\"/images/rating/9-stars.gif\"/> (9 out of 10 )<br/>Also, not to totally rub it in your face, but the \"Shane Black Guy\" still stands at the highest paid scriptwriter of all time to boot.</p>\n",
      "\n",
      "Lethal Weapon 4 <p><b>Karl</b> <a href=\"mailto:Karlam20001@lycos.com\" title=\"E-mail User\"><img border=\"0\" src=\"/images/emailuser.gif\"/></a>   <img src=\"/images/rating/10-stars.gif\"/> (10 out of 10 )<br/>This Movie I knew before I went to see it that I was going to like. This is my second favorite Lethal Weapon. I like Lethal Weapon 2 better, but it does not say that this sequel is less entertaining. All 4 of the Lethal Weapon Movies are good in their own ways. Lethal Weapon 4 stands out because of its original format. That format being that this time Riggs is going to be a father, and Murtaugh a grandfather. Also, the addition of Chris Rock to the Lethal team providing comedy, oops, I mean more comedy to the Movie, and helping Riggs, and Murtaugh go after new backguys. This Movie is a definite improvement over Lethal Weapon 3, which is my lease favorite of the foursome. Oh let's not forget Jet Li as the Asian Crime Lord. His Martian Arts Skills are a Lethal Weapon, and a thrill to watch.</p>\n",
      "\n",
      "Matchstick Men <p><b>Linda Austin</b> <a href=\"mailto:sidekick@sonic.net\" title=\"E-mail User\"><img border=\"0\" src=\"/images/emailuser.gif\"/></a>   <img src=\"/images/rating/10-stars.gif\"/> (10 out of 10 )<br/>I loved this movie. I thought the script was tight. Story proceeded with a realistic bent. Nicholas Cage's performance at times can be overdone, but in this script he did his pill, compulsive obsessive numbers and odd facial elements and out of control times with an added dash of reserve and proper feeling and movement levels. The girl who played Angela was wonderful. I still can't imagine how they made her look 14 and then older at the final scene. The story continued from setup to conflict with characters revealing and changing throughout the process of the scripted work. Also I believe that Ridley Scott is an excellent director. I look forward to seeing more of his work. Even the soundtrack with Frank Sinatra's songs fit in perfectly with the story, theme and feeling of the movie. It is one of my favorites. I will watch it again and again. I already know most of the lines. It is up there with another movie which was a giant gift \"The Green Mile\" which while watching it I asked myself \"How long HAS it been since I have seen a really REALLY good movie. Both are favorites. Good work to crew, production staff, producers, directors, crew and talent in each movie. Excellent. I hope to see more movies that will give me such a wonderful experience such as these two did.</p>\n",
      "\n",
      "Outbreak <p><b>peter avery</b> <a href=\"mailto:p.avery@21bigpond.com\" title=\"E-mail User\"><img border=\"0\" src=\"/images/emailuser.gif\"/></a>   <img src=\"/images/rating/8-stars.gif\"/> (8 out of 10 )<br/>I have see Outbreak many times on cable. Such a strong ensumble cast. Hoffman, Sutherland, Freeman, Spacey, Rene Russo and Cuba Gooding jr. I think the film is very well done, and not too overplayed by the actors. If I had one critism, and I suppose I am clutching at straws here, Its Dustin Hoffmans portryal of Col Sam Daniels. To me personally, I first thought that he may have been miscast. But having watched the film more than a dozen times, his performance is a little bit different to that had it been played by a typical character actor. And I suppose, there in lies, hoffmans ability to make the character his own. Great film, extraordinary support cast.</p>\n",
      "\n",
      "Troy <p><b>Oscar</b> <a href=\"mailto:otrestrail@hotmail.com\" title=\"E-mail User\"><img border=\"0\" src=\"/images/emailuser.gif\"/></a>   <img src=\"/images/rating/8-stars.gif\"/> (8 out of 10 )<br/>This was a great film, the thing that bothers me is that the original literature of the Iliad and Odyssey is very graphic and sadistic, I reckon it would've been even more successful had there been GODS in it as Homers work says and stay true to the real story.</p>\n",
      "\n",
      "Unforgiven <p><b>Nigga Franz Haus</b> <a href=\"mailto:grfeftt@dccd.com\" title=\"E-mail User\"><img border=\"0\" src=\"/images/emailuser.gif\"/></a>   <img src=\"/images/rating/10-stars.gif\"/> (10 out of 10 )<br/>I'm here to kill you, little bill. What a fantastic unorthodox story told in the west, well deserved best picture and most importantly the screenplay. Never before has such an honest depiction of killing been put to screen, as Eastwood's true to life character trumps any other anti-hero of the west. The most notable part of this movie is the script by David Peoples, deserving a solid 10/10.</p>\n",
      "\n",
      "Valentine's Day <p><b>sammi</b> <img src=\"/images/rating/9-stars.gif\"/> (9 out of 10 )<br/>I loved this movie and most of the actors in it. The script has an amazing story line and it almost makes me wish my valentines day turned out like that; me being asked to marry my best friend. An amazing story of love, family and first times. I feel sorry for the young boy who's mother is in the army and is away a lot of the time. Each character has their own story to tell in this movie, though they all come together in some way. It just goes to show that Valentines day can and can't be one of the best days of the year, even if you don't have love, friends do the job well. Again the script was amazing and I loved it.</p>\n",
      "\n"
     ]
    }
   ],
   "source": [
    "script_pages = dict()\n",
    "for name in movie_pages:\n",
    "    time.sleep(0.1)\n",
    "    URL = \"https://www.imsdb.com\" + movie_pages[name].replace(\" \",\"%20\")\n",
    "    r = requests.get(URL) \n",
    "    soup = BeautifulSoup(r.content, 'html5lib')\n",
    "    \n",
    "    link = soup.find_all(\"p\")\n",
    "    if len(link) > 0:\n",
    "        link = link[-1]\n",
    "        \n",
    "        if link.text.strip().endswith(\"Script\"):\n",
    "            script_pages[name] = link.find(\"a\").get(\"href\")\n",
    "        else:\n",
    "            print(name, link)\n",
    "            print()\n",
    "    else:\n",
    "        print(name)\n",
    "        print()"
   ]
  },
  {
   "cell_type": "code",
   "execution_count": 22,
   "metadata": {},
   "outputs": [
    {
     "data": {
      "text/plain": [
       "1180"
      ]
     },
     "execution_count": 22,
     "metadata": {},
     "output_type": "execute_result"
    }
   ],
   "source": [
    "len(script_pages)"
   ]
  },
  {
   "cell_type": "code",
   "execution_count": 23,
   "metadata": {},
   "outputs": [],
   "source": [
    "script_pages = {name:script_pages[name] for name in script_pages if script_pages[name].startswith(\"/scripts/\") and script_pages[name].endswith(\".html\")}"
   ]
  },
  {
   "cell_type": "code",
   "execution_count": 29,
   "metadata": {},
   "outputs": [],
   "source": [
    "pd.DataFrame(list(script_pages.items()), columns=[\"name\",\"url\"]).set_index(\"name\").to_csv(\"script_urls.csv\")"
   ]
  },
  {
   "cell_type": "code",
   "execution_count": 106,
   "metadata": {},
   "outputs": [],
   "source": [
    "names = list(script_pages.keys())\n",
    "scripts = dict()\n",
    "last_name = names[0]"
   ]
  },
  {
   "cell_type": "code",
   "execution_count": 115,
   "metadata": {},
   "outputs": [],
   "source": [
    "for name in names[names.index(last_name):]:\n",
    "    time.sleep(0.1)\n",
    "    URL = \"https://www.imsdb.com\" + script_pages[name]\n",
    "    r = requests.get(URL)\n",
    "    soup = BeautifulSoup(r.content, 'html5lib')\n",
    "    \n",
    "    pre = soup.find(\"pre\")\n",
    "    td = soup.find(\"td\", {\"class\":\"scrtext\"})\n",
    "    if pre != None:\n",
    "        if pre.script != None:\n",
    "            pre.script.decompose()\n",
    "        text = pre.text\n",
    "    elif td != None:\n",
    "        text = td.text\n",
    "    else:\n",
    "        print(name, URL)\n",
    "        continue\n",
    "    scripts[name] = text\n",
    "    last_name = name"
   ]
  },
  {
   "cell_type": "code",
   "execution_count": 116,
   "metadata": {},
   "outputs": [
    {
     "data": {
      "text/html": [
       "<div>\n",
       "<style scoped>\n",
       "    .dataframe tbody tr th:only-of-type {\n",
       "        vertical-align: middle;\n",
       "    }\n",
       "\n",
       "    .dataframe tbody tr th {\n",
       "        vertical-align: top;\n",
       "    }\n",
       "\n",
       "    .dataframe thead th {\n",
       "        text-align: right;\n",
       "    }\n",
       "</style>\n",
       "<table border=\"1\" class=\"dataframe\">\n",
       "  <thead>\n",
       "    <tr style=\"text-align: right;\">\n",
       "      <th></th>\n",
       "      <th>script</th>\n",
       "    </tr>\n",
       "    <tr>\n",
       "      <th>name</th>\n",
       "      <th></th>\n",
       "    </tr>\n",
       "  </thead>\n",
       "  <tbody>\n",
       "    <tr>\n",
       "      <th>10 Things I Hate About You</th>\n",
       "      <td>\\n\\n\\nTen Things I Hate About You - by Karen M...</td>\n",
       "    </tr>\n",
       "    <tr>\n",
       "      <th>12</th>\n",
       "      <td>\\n\\n  \\n  12 - Script\\n\\n\\n\\n\\nCUT FROM BLACK\\...</td>\n",
       "    </tr>\n",
       "    <tr>\n",
       "      <th>12 and Holding</th>\n",
       "      <td>\\n          \\n          \\n         ...</td>\n",
       "    </tr>\n",
       "    <tr>\n",
       "      <th>12 Monkeys</th>\n",
       "      <td>\\n\\n\\nTwelve Monkeys\\n\\n\\n\\t\\t\\t\\tTWELVE MONKE...</td>\n",
       "    </tr>\n",
       "    <tr>\n",
       "      <th>12 Years a Slave</th>\n",
       "      <td>\\n\\n\\n                             12 YEARS A ...</td>\n",
       "    </tr>\n",
       "  </tbody>\n",
       "</table>\n",
       "</div>"
      ],
      "text/plain": [
       "                                                                       script\n",
       "name                                                                         \n",
       "10 Things I Hate About You  \\n\\n\\nTen Things I Hate About You - by Karen M...\n",
       "12                          \\n\\n  \\n  12 - Script\\n\\n\\n\\n\\nCUT FROM BLACK\\...\n",
       "12 and Holding                         \\n          \\n          \\n         ...\n",
       "12 Monkeys                  \\n\\n\\nTwelve Monkeys\\n\\n\\n\\t\\t\\t\\tTWELVE MONKE...\n",
       "12 Years a Slave            \\n\\n\\n                             12 YEARS A ..."
      ]
     },
     "execution_count": 116,
     "metadata": {},
     "output_type": "execute_result"
    }
   ],
   "source": [
    "df = pd.DataFrame(list(scripts.items()), columns=[\"name\",\"script\"]).set_index(\"name\")\n",
    "df.to_csv(\"scripts.csv\")"
   ]
  },
  {
   "cell_type": "code",
   "execution_count": 118,
   "metadata": {},
   "outputs": [
    {
     "data": {
      "text/plain": [
       "1160"
      ]
     },
     "execution_count": 118,
     "metadata": {},
     "output_type": "execute_result"
    }
   ],
   "source": [
    "len(scripts)"
   ]
  },
  {
   "cell_type": "code",
   "execution_count": 124,
   "metadata": {},
   "outputs": [],
   "source": [
    "nospace = {name: \" \".join(scripts[name].split()) for name in scripts}"
   ]
  },
  {
   "cell_type": "code",
   "execution_count": 126,
   "metadata": {},
   "outputs": [],
   "source": [
    "df_nospace = pd.DataFrame(list(nospace.items()), columns=[\"name\",\"script\"]).set_index(\"name\")\n",
    "df_nospace.to_csv(\"scripts_nospace.csv\")"
   ]
  }
 ],
 "metadata": {
  "kernelspec": {
   "display_name": "Python 3",
   "language": "python",
   "name": "python3"
  },
  "language_info": {
   "codemirror_mode": {
    "name": "ipython",
    "version": 3
   },
   "file_extension": ".py",
   "mimetype": "text/x-python",
   "name": "python",
   "nbconvert_exporter": "python",
   "pygments_lexer": "ipython3",
   "version": "3.7.1"
  }
 },
 "nbformat": 4,
 "nbformat_minor": 2
}
